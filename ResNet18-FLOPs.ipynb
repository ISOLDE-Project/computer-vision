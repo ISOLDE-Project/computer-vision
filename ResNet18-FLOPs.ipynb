{
 "cells": [
  {
   "cell_type": "code",
   "execution_count": null,
   "metadata": {},
   "outputs": [],
   "source": [
    "import torch\n",
    "import torch.nn as nn\n",
    "from torchvision import models\n",
    "from torch.nn import functional as F\n",
    "from torchprofile import profile_macs  # Assumes torchprofile is installed\n",
    "from torchvision.models import ResNet18_Weights\n",
    "\n",
    "# Step 1: Define a new model with softmax appended in the forward pass\n",
    "class ResNet18WithSoftmax(nn.Module):\n",
    "    def __init__(self):\n",
    "        super(ResNet18WithSoftmax, self).__init__()\n",
    "        # Use weights instead of pretrained for loading model weights\n",
    "        self.model = models.resnet18(weights=ResNet18_Weights.IMAGENET1K_V1)\n",
    "\n",
    "    def forward(self, x):\n",
    "        x = self.model(x)\n",
    "        return F.softmax(x, dim=1)  # Apply softmax on the output layer\n",
    "\n",
    "# Instantiate the modified model\n",
    "model_with_softmax = ResNet18WithSoftmax()\n",
    "\n",
    "# Step 2: Calculate FLOPs\n",
    "# Example input tensor of the shape that ResNet18 expects (batch size = 1, 3 color channels, 224x224 image)\n",
    "input_tensor = torch.randn(1, 3, 224, 224)\n",
    "\n",
    "# Profile the model to calculate MACs/FLOPs\n",
    "flops = profile_macs(model_with_softmax, input_tensor) * 2  # Convert MACs to FLOPs\n",
    "\n",
    "# Convert FLOPs to GFLOPs\n",
    "gflops = flops / 1e9\n",
    "print(f\"Total GFLOPs for inference: {gflops:.2f} GFLOPs\")\n"
   ]
  }
 ],
 "metadata": {
  "kernelspec": {
   "display_name": "isolde-cv",
   "language": "python",
   "name": "python3"
  },
  "language_info": {
   "codemirror_mode": {
    "name": "ipython",
    "version": 3
   },
   "file_extension": ".py",
   "mimetype": "text/x-python",
   "name": "python",
   "nbconvert_exporter": "python",
   "pygments_lexer": "ipython3",
   "version": "3.10.15"
  }
 },
 "nbformat": 4,
 "nbformat_minor": 2
}
