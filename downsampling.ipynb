{
 "cells": [
  {
   "cell_type": "code",
   "execution_count": 11,
   "id": "0dda9acf",
   "metadata": {},
   "outputs": [],
   "source": [
    "import torch\n",
    "import torch.nn as nn\n",
    "import torchvision.transforms as T\n",
    "from PIL import Image\n",
    "\n",
    "# Load image and convert to tensor\n",
    "#testInput=\"testpattern-hd-1080.png\"\n",
    "testInput=\"1920x1080-full-hd-nature-landscape.jpg\"\n",
    "img = Image.open(testInput).convert(\"RGB\")\n",
    "img_tensor = T.ToTensor()(img).unsqueeze(0)  # shape [1, C, H, W]\n",
    "\n",
    "# Crop height from 1080 → 960 (remove 60px top & bottom)\n",
    "# Crop width from  1920 → 1280 (remove 320px left & rigth)\n",
    "img_tensor = img_tensor[:, :, 60:1020, 320:1600]  # now shape [1, C, 960, 1280]\n",
    "\n",
    "# Define mean filter convolution layer\n",
    "channels = img_tensor.shape[1]\n",
    "kernel_size = 3\n",
    "stride = (2, 2)\n",
    "padding = 1  # keep things centered\n",
    "\n",
    "conv = nn.Conv2d(\n",
    "    in_channels=channels,\n",
    "    out_channels=1,\n",
    "    kernel_size=kernel_size,\n",
    "    stride=stride,\n",
    "    padding=padding,\n",
    "   # groups=channels,\n",
    "    bias=False\n",
    ")\n",
    "\n",
    "# Set weights to mean filter\n",
    "with torch.no_grad():\n",
    "   # mean_kernel = torch.ones_like(conv.weight) / (kernel_size ** 2)\n",
    "    mean_kernel = torch.zeros((1, channels, kernel_size, kernel_size))  # [out, in, kH, kW]\n",
    "    luminance = torch.tensor([0.2989, 0.5870, 0.1140])\n",
    "    for c in range(channels):\n",
    "        mean_kernel[0, c, :, :] = luminance[c] /(kernel_size ** 2)  # spread weights evenly over 3x3\n",
    "    conv.weight.copy_(mean_kernel)\n",
    "\n",
    "# Apply convolution\n",
    "downsampled = conv(img_tensor)  # should now be [1, 1, 480, 640]\n",
    "\n",
    "# Save output\n",
    "output = T.ToPILImage()(downsampled.squeeze(0).clamp(0, 1))\n",
    "output.save(\"output_downsampled.jpg\")\n"
   ]
  }
 ],
 "metadata": {
  "kernelspec": {
   "display_name": "isolde-cv",
   "language": "python",
   "name": "python3"
  },
  "language_info": {
   "codemirror_mode": {
    "name": "ipython",
    "version": 3
   },
   "file_extension": ".py",
   "mimetype": "text/x-python",
   "name": "python",
   "nbconvert_exporter": "python",
   "pygments_lexer": "ipython3",
   "version": "3.10.15"
  }
 },
 "nbformat": 4,
 "nbformat_minor": 5
}
